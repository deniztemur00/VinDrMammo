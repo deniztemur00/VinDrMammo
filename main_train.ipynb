{
  "cells": [
    {
      "cell_type": "code",
      "execution_count": null,
      "metadata": {
        "colab": {
          "base_uri": "https://localhost:8080/"
        },
        "id": "P9VvaSmvqs4b",
        "outputId": "ef558d93-e349-443b-f8bf-15d609091c94"
      },
      "outputs": [
        {
          "name": "stdout",
          "output_type": "stream",
          "text": [
            "Collecting pydicom==2.1.2\n",
            "  Downloading pydicom-2.1.2-py3-none-any.whl.metadata (6.2 kB)\n",
            "Downloading pydicom-2.1.2-py3-none-any.whl (1.9 MB)\n",
            "\u001b[2K   \u001b[90m━━━━━━━━━━━━━━━━━━━━━━━━━━━━━━━━━━━━━━━━\u001b[0m \u001b[32m1.9/1.9 MB\u001b[0m \u001b[31m5.7 MB/s\u001b[0m eta \u001b[36m0:00:00\u001b[0m\n",
            "\u001b[?25hInstalling collected packages: pydicom\n",
            "Successfully installed pydicom-2.1.2\n",
            "Collecting torchmetrics\n",
            "  Downloading torchmetrics-1.6.1-py3-none-any.whl.metadata (21 kB)\n",
            "Requirement already satisfied: numpy>1.20.0 in /usr/local/lib/python3.11/dist-packages (from torchmetrics) (1.26.4)\n",
            "Requirement already satisfied: packaging>17.1 in /usr/local/lib/python3.11/dist-packages (from torchmetrics) (24.2)\n",
            "Requirement already satisfied: torch>=2.0.0 in /usr/local/lib/python3.11/dist-packages (from torchmetrics) (2.5.1+cu121)\n",
            "Collecting lightning-utilities>=0.8.0 (from torchmetrics)\n",
            "  Downloading lightning_utilities-0.11.9-py3-none-any.whl.metadata (5.2 kB)\n",
            "Requirement already satisfied: setuptools in /usr/local/lib/python3.11/dist-packages (from lightning-utilities>=0.8.0->torchmetrics) (75.1.0)\n",
            "Requirement already satisfied: typing-extensions in /usr/local/lib/python3.11/dist-packages (from lightning-utilities>=0.8.0->torchmetrics) (4.12.2)\n",
            "Requirement already satisfied: filelock in /usr/local/lib/python3.11/dist-packages (from torch>=2.0.0->torchmetrics) (3.17.0)\n",
            "Requirement already satisfied: networkx in /usr/local/lib/python3.11/dist-packages (from torch>=2.0.0->torchmetrics) (3.4.2)\n",
            "Requirement already satisfied: jinja2 in /usr/local/lib/python3.11/dist-packages (from torch>=2.0.0->torchmetrics) (3.1.5)\n",
            "Requirement already satisfied: fsspec in /usr/local/lib/python3.11/dist-packages (from torch>=2.0.0->torchmetrics) (2024.10.0)\n",
            "Requirement already satisfied: nvidia-cuda-nvrtc-cu12==12.1.105 in /usr/local/lib/python3.11/dist-packages (from torch>=2.0.0->torchmetrics) (12.1.105)\n",
            "Requirement already satisfied: nvidia-cuda-runtime-cu12==12.1.105 in /usr/local/lib/python3.11/dist-packages (from torch>=2.0.0->torchmetrics) (12.1.105)\n",
            "Requirement already satisfied: nvidia-cuda-cupti-cu12==12.1.105 in /usr/local/lib/python3.11/dist-packages (from torch>=2.0.0->torchmetrics) (12.1.105)\n",
            "Requirement already satisfied: nvidia-cudnn-cu12==9.1.0.70 in /usr/local/lib/python3.11/dist-packages (from torch>=2.0.0->torchmetrics) (9.1.0.70)\n",
            "Requirement already satisfied: nvidia-cublas-cu12==12.1.3.1 in /usr/local/lib/python3.11/dist-packages (from torch>=2.0.0->torchmetrics) (12.1.3.1)\n",
            "Requirement already satisfied: nvidia-cufft-cu12==11.0.2.54 in /usr/local/lib/python3.11/dist-packages (from torch>=2.0.0->torchmetrics) (11.0.2.54)\n",
            "Requirement already satisfied: nvidia-curand-cu12==10.3.2.106 in /usr/local/lib/python3.11/dist-packages (from torch>=2.0.0->torchmetrics) (10.3.2.106)\n",
            "Requirement already satisfied: nvidia-cusolver-cu12==11.4.5.107 in /usr/local/lib/python3.11/dist-packages (from torch>=2.0.0->torchmetrics) (11.4.5.107)\n",
            "Requirement already satisfied: nvidia-cusparse-cu12==12.1.0.106 in /usr/local/lib/python3.11/dist-packages (from torch>=2.0.0->torchmetrics) (12.1.0.106)\n",
            "Requirement already satisfied: nvidia-nccl-cu12==2.21.5 in /usr/local/lib/python3.11/dist-packages (from torch>=2.0.0->torchmetrics) (2.21.5)\n",
            "Requirement already satisfied: nvidia-nvtx-cu12==12.1.105 in /usr/local/lib/python3.11/dist-packages (from torch>=2.0.0->torchmetrics) (12.1.105)\n",
            "Requirement already satisfied: triton==3.1.0 in /usr/local/lib/python3.11/dist-packages (from torch>=2.0.0->torchmetrics) (3.1.0)\n",
            "Requirement already satisfied: sympy==1.13.1 in /usr/local/lib/python3.11/dist-packages (from torch>=2.0.0->torchmetrics) (1.13.1)\n",
            "Requirement already satisfied: nvidia-nvjitlink-cu12 in /usr/local/lib/python3.11/dist-packages (from nvidia-cusolver-cu12==11.4.5.107->torch>=2.0.0->torchmetrics) (12.6.85)\n",
            "Requirement already satisfied: mpmath<1.4,>=1.1.0 in /usr/local/lib/python3.11/dist-packages (from sympy==1.13.1->torch>=2.0.0->torchmetrics) (1.3.0)\n",
            "Requirement already satisfied: MarkupSafe>=2.0 in /usr/local/lib/python3.11/dist-packages (from jinja2->torch>=2.0.0->torchmetrics) (3.0.2)\n",
            "Downloading torchmetrics-1.6.1-py3-none-any.whl (927 kB)\n",
            "\u001b[2K   \u001b[90m━━━━━━━━━━━━━━━━━━━━━━━━━━━━━━━━━━━━━━━━\u001b[0m \u001b[32m927.3/927.3 kB\u001b[0m \u001b[31m59.0 MB/s\u001b[0m eta \u001b[36m0:00:00\u001b[0m\n",
            "\u001b[?25hDownloading lightning_utilities-0.11.9-py3-none-any.whl (28 kB)\n",
            "Installing collected packages: lightning-utilities, torchmetrics\n",
            "Successfully installed lightning-utilities-0.11.9 torchmetrics-1.6.1\n"
          ]
        }
      ],
      "source": [
        "!pip install pydicom==2.1.2\n",
        "!pip install torchmetrics"
      ]
    },
    {
      "cell_type": "code",
      "execution_count": null,
      "metadata": {
        "id": "mHZ-my2j6lcc"
      },
      "outputs": [],
      "source": [
        "from dataset import MammographyDataset, create_categories, custom_collate\n",
        "from torch.utils.data import DataLoader\n",
        "import pandas as pd\n",
        "from matplotlib import pyplot as plt\n",
        "from tqdm import tqdm\n",
        "import os\n",
        "import zipfile\n",
        "from retinanet import CustomRetinaNet,RetinaNetConfig\n",
        "from train import Trainer\n",
        "from utils.visualize import convert_dicom_to_png\n",
        "from torchvision import transforms\n",
        "import torch"
      ]
    },
    {
      "cell_type": "code",
      "execution_count": null,
      "metadata": {
        "id": "PVn543Kt0-pX"
      },
      "outputs": [],
      "source": [
        "zip_path = \"/content/drive/MyDrive/AI Deniz/Vindr_Mammo/vindr-mammo.zip\"\n",
        "inter_name = \"vindr-mammo-a-large-scale-benchmark-dataset-for-computer-aided-detection-and-diagnosis-in-full-field-digital-mammography-1.0.0/images\"\n",
        "extract_dir = '/content/'\n",
        "os.makedirs(extract_dir, exist_ok=True)\n",
        "df = pd.read_csv(\"/content/metadata/stratified_local_balanced_v2.csv\")"
      ]
    },
    {
      "cell_type": "code",
      "execution_count": null,
      "metadata": {
        "colab": {
          "base_uri": "https://localhost:8080/"
        },
        "collapsed": true,
        "id": "FnkOtgWd1GrV",
        "outputId": "0a7ceefd-40e1-4904-d348-a86b106d653b"
      },
      "outputs": [
        {
          "name": "stderr",
          "output_type": "stream",
          "text": [
            "Extracting files: 100%|██████████| 4957/4957 [17:31<00:00,  4.71it/s]\n"
          ]
        }
      ],
      "source": [
        "with zipfile.ZipFile(zip_path, 'r') as zip_ref:\n",
        "    zip_file_list = zip_ref.namelist()\n",
        "\n",
        "    for index, row in tqdm(df.iterrows(), total=len(df), desc=\"Extracting files\"):\n",
        "        study_id = row['study_id']\n",
        "        image_id = row['image_id']\n",
        "        file_name_in_zip = f\"{inter_name}/{study_id}/{image_id}.dicom\"\n",
        "\n",
        "        zip_ref.extract(file_name_in_zip, extract_dir)"
      ]
    },
    {
      "cell_type": "code",
      "execution_count": null,
      "metadata": {
        "id": "WooEIkyo7oKl"
      },
      "outputs": [],
      "source": [
        "all_categories,cat2idx = create_categories(df)\n",
        "\n",
        "# Split into train and test based on fold\n",
        "train_df = df[df['fold'] == 'training']\n",
        "test_df = df[df['fold'] == 'test']\n",
        "\n",
        "\n",
        "\n",
        "train_dataset = MammographyDataset(train_df, zip_path, inter_name)\n",
        "test_dataset = MammographyDataset(test_df, zip_path, inter_name)\n",
        "\n",
        "# Copy the category2idx and categories from the train dataset to the test dataset\n",
        "# Because stratified with respect to birads and densities not findings\n",
        "train_dataset.set_categories(all_categories, cat2idx)\n",
        "test_dataset.set_categories(all_categories, cat2idx)\n",
        "\n",
        "## More than 8 batch size is cuda out of memory\n",
        "train_loader = DataLoader(train_dataset, batch_size=4, shuffle=True,collate_fn=custom_collate)\n",
        "test_loader = DataLoader(test_dataset, batch_size=4, shuffle=True,collate_fn=custom_collate)\n",
        "\n"
      ]
    },
    {
      "cell_type": "code",
      "execution_count": null,
      "metadata": {
        "colab": {
          "base_uri": "https://localhost:8080/"
        },
        "id": "ipGUv9O_rwTM",
        "outputId": "8db1c87a-7186-4fc0-90c3-8af829374fc5"
      },
      "outputs": [
        {
          "name": "stderr",
          "output_type": "stream",
          "text": [
            "/usr/local/lib/python3.11/dist-packages/torchvision/models/_utils.py:223: UserWarning: Arguments other than a weight enum or `None` for 'weights' are deprecated since 0.13 and may be removed in the future. The current behavior is equivalent to passing `weights=ResNet101_Weights.IMAGENET1K_V1`. You can also use `weights=ResNet101_Weights.DEFAULT` to get the most up-to-date weights.\n",
            "  warnings.warn(msg)\n",
            "Downloading: \"https://download.pytorch.org/models/resnet101-63fe2227.pth\" to /root/.cache/torch/hub/checkpoints/resnet101-63fe2227.pth\n",
            "100%|██████████| 171M/171M [00:00<00:00, 216MB/s]\n"
          ]
        },
        {
          "name": "stdout",
          "output_type": "stream",
          "text": [
            "51537704\n",
            "0.0\n",
            "0.0\n",
            "0.0\n",
            "0.0\n"
          ]
        }
      ],
      "source": [
        "config = RetinaNetConfig()\n",
        "model = CustomRetinaNet(config)\n",
        "\n",
        "print(sum(p.numel() for p in model.parameters() if p.requires_grad))\n",
        "\n",
        "def memory_stats():\n",
        "    print(torch.cuda.memory_allocated()/1024**2)\n",
        "    print(torch.cuda.memory_reserved()/1024**2)\n",
        "\n",
        "\n",
        "def allocate():\n",
        "    x = torch.randn(1024*1024, device='cuda')\n",
        "    memory_stats()\n",
        "\n",
        "memory_stats()\n",
        "torch.cuda.empty_cache()\n",
        "memory_stats()"
      ]
    },
    {
      "cell_type": "code",
      "execution_count": null,
      "metadata": {
        "colab": {
          "base_uri": "https://localhost:8080/"
        },
        "id": "l8KDx_zAr339",
        "outputId": "eefbbc8a-132b-4fe2-e900-c7bf3b774a4f"
      },
      "outputs": [
        {
          "name": "stderr",
          "output_type": "stream",
          "text": [
            "/content/train.py:310: FutureWarning: You are using `torch.load` with `weights_only=False` (the current default value), which uses the default pickle module implicitly. It is possible to construct malicious pickle data which will execute arbitrary code during unpickling (See https://github.com/pytorch/pytorch/blob/main/SECURITY.md#untrusted-models for more details). In a future release, the default value for `weights_only` will be flipped to `True`. This limits the functions that could be executed during unpickling. Arbitrary objects will no longer be allowed to be loaded via this mode unless they are explicitly allowlisted by the user via `torch.serialization.add_safe_globals`. We recommend you start setting `weights_only=True` for any use case where you don't have full control of the loaded file. Please open an issue on GitHub for any issues related to this experimental feature.\n",
            "  self.model.load_state_dict(torch.load(filename, map_location=self.device))\n"
          ]
        },
        {
          "name": "stdout",
          "output_type": "stream",
          "text": [
            "cuda\n"
          ]
        }
      ],
      "source": [
        "drive_dir = \"/content/drive/MyDrive/AI Deniz/Vindr_Mammo/models/\"\n",
        "model_name = \"resnet101_retinanet_3\"\n",
        "model_path = f\"{drive_dir}{model_name}_best_model.pth\"\n",
        "trainer = Trainer(model,\n",
        "                  train_loader,\n",
        "                  test_loader,\n",
        "                  save_dir = drive_dir,\n",
        "                  epochs=10,\n",
        "                  name=model_name)\n",
        "\n",
        "trainer.load(filename=model_path)\n",
        "print(trainer.device)"
      ]
    },
    {
      "cell_type": "code",
      "execution_count": null,
      "metadata": {
        "colab": {
          "base_uri": "https://localhost:8080/"
        },
        "id": "asLV48ydjJl_",
        "outputId": "3df3b103-da36-44c2-9b4a-2a51c7af110a"
      },
      "outputs": [
        {
          "name": "stderr",
          "output_type": "stream",
          "text": [
            "Epoch 1/10 - Training:  96%|█████████▌| 939/983 [1:04:09<03:02,  4.15s/it, cls_loss=1.1544, box_loss=5.2817, birads_loss=0.6951, density_loss=0.2171, LR=0.00098]"
          ]
        }
      ],
      "source": [
        "trainer.train()"
      ]
    },
    {
      "cell_type": "code",
      "execution_count": null,
      "metadata": {
        "id": "0f57qcrljLyb"
      },
      "outputs": [],
      "source": []
    },
    {
      "cell_type": "code",
      "execution_count": null,
      "metadata": {
        "colab": {
          "base_uri": "https://localhost:8080/"
        },
        "id": "Z-zl8sU3a_LD",
        "outputId": "3c822b1e-f73c-49e5-f051-fd113b4ec283"
      },
      "outputs": [
        {
          "name": "stderr",
          "output_type": "stream",
          "text": [
            "Epoch 1/10 - Training: 100%|██████████| 983/983 [1:08:07<00:00,  4.16s/it, cls_loss=0.7959, box_loss=0.2583, birads_loss=0.1409, density_loss=0.1797, LR=0.00098]\n",
            "Validation: 100%|██████████| 257/257 [09:24<00:00,  2.20s/it, total_loss=439.1814, bbox_l1=437.4813, bbox_cls=0.0000, birads_loss=1.1398, density_loss=0.5603, birads_f1=0.0681, density_f1=0.1902]\n",
            "Epoch 2/10 - Training:  87%|████████▋ | 851/983 [58:13<09:07,  4.14s/it, cls_loss=0.9089, box_loss=0.9469, birads_loss=0.1523, density_loss=0.0744, LR=0.00092]"
          ]
        }
      ],
      "source": [
        "trainer.train()"
      ]
    },
    {
      "cell_type": "code",
      "execution_count": null,
      "metadata": {},
      "outputs": [],
      "source": []
    },
    {
      "cell_type": "code",
      "execution_count": null,
      "metadata": {
        "colab": {
          "base_uri": "https://localhost:8080/"
        },
        "id": "xVweK4f31US1",
        "outputId": "8863b277-fc88-4843-fb9b-688cbef87875"
      },
      "outputs": [
        {
          "name": "stderr",
          "output_type": "stream",
          "text": [
            "Epoch 1/10 - Training: 100%|██████████| 983/983 [1:11:26<00:00,  4.36s/it, cls_loss=0.3957, box_loss=0.3599, birads_loss=0.1620, density_loss=0.1413, LR=0.00001]\n",
            "Validation: 100%|██████████| 257/257 [09:49<00:00,  2.30s/it, total_loss=113.7544, bbox_l1=112.4904, bbox_cls=0.0000, birads_loss=0.7552, density_loss=0.5089, birads_f1=0.0719, density_f1=0.2121]\n",
            "Epoch 2/10 - Training:   8%|▊         | 82/983 [05:58<1:05:40,  4.37s/it, cls_loss=0.6670, box_loss=0.9496, birads_loss=0.1631, density_loss=0.1379, LR=0.00001]\n"
          ]
        },
        {
          "name": "stdout",
          "output_type": "stream",
          "text": [
            "Training interrupted. Saving the model...\n"
          ]
        }
      ],
      "source": [
        "trainer.train()"
      ]
    }
  ],
  "metadata": {
    "accelerator": "GPU",
    "colab": {
      "cell_execution_strategy": "setup",
      "gpuType": "T4",
      "machine_shape": "hm",
      "provenance": []
    },
    "kernelspec": {
      "display_name": "Python 3",
      "name": "python3"
    },
    "language_info": {
      "name": "python"
    }
  },
  "nbformat": 4,
  "nbformat_minor": 0
}
