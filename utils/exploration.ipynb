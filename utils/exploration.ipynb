{
 "cells": [
  {
   "cell_type": "code",
   "execution_count": 1,
   "metadata": {},
   "outputs": [],
   "source": [
    "import pandas as pd\n"
   ]
  },
  {
   "cell_type": "code",
   "execution_count": 10,
   "metadata": {},
   "outputs": [],
   "source": [
    "df = pd.read_csv('..\\\\metadata\\\\stratified_local.csv')\n",
    "df_glob = pd.read_csv('..\\\\metadata\\\\stratified_global.csv')"
   ]
  },
  {
   "cell_type": "code",
   "execution_count": 3,
   "metadata": {},
   "outputs": [
    {
     "data": {
      "text/html": [
       "<div>\n",
       "<style scoped>\n",
       "    .dataframe tbody tr th:only-of-type {\n",
       "        vertical-align: middle;\n",
       "    }\n",
       "\n",
       "    .dataframe tbody tr th {\n",
       "        vertical-align: top;\n",
       "    }\n",
       "\n",
       "    .dataframe thead th {\n",
       "        text-align: right;\n",
       "    }\n",
       "</style>\n",
       "<table border=\"1\" class=\"dataframe\">\n",
       "  <thead>\n",
       "    <tr style=\"text-align: right;\">\n",
       "      <th></th>\n",
       "      <th>study_id</th>\n",
       "      <th>series_id</th>\n",
       "      <th>image_id</th>\n",
       "      <th>laterality</th>\n",
       "      <th>view_position</th>\n",
       "      <th>height</th>\n",
       "      <th>width</th>\n",
       "      <th>breast_birads</th>\n",
       "      <th>breast_density</th>\n",
       "      <th>finding_categories</th>\n",
       "      <th>finding_birads</th>\n",
       "      <th>xmin</th>\n",
       "      <th>ymin</th>\n",
       "      <th>xmax</th>\n",
       "      <th>ymax</th>\n",
       "      <th>split</th>\n",
       "      <th>fold</th>\n",
       "    </tr>\n",
       "  </thead>\n",
       "  <tbody>\n",
       "    <tr>\n",
       "      <th>0</th>\n",
       "      <td>48575a27b7c992427041a82fa750d3fa</td>\n",
       "      <td>26de4993fa6b8ae50a91c8baf49b92b0</td>\n",
       "      <td>4e3a578fe535ea4f5258d3f7f4419db8</td>\n",
       "      <td>R</td>\n",
       "      <td>CC</td>\n",
       "      <td>3518</td>\n",
       "      <td>2800</td>\n",
       "      <td>BI-RADS 4</td>\n",
       "      <td>DENSITY C</td>\n",
       "      <td>['Mass']</td>\n",
       "      <td>BI-RADS 4</td>\n",
       "      <td>2355.139893</td>\n",
       "      <td>1731.640015</td>\n",
       "      <td>2482.979980</td>\n",
       "      <td>1852.750000</td>\n",
       "      <td>training</td>\n",
       "      <td>training</td>\n",
       "    </tr>\n",
       "    <tr>\n",
       "      <th>1</th>\n",
       "      <td>48575a27b7c992427041a82fa750d3fa</td>\n",
       "      <td>26de4993fa6b8ae50a91c8baf49b92b0</td>\n",
       "      <td>dac39351b0f3a8c670b7f8dc88029364</td>\n",
       "      <td>R</td>\n",
       "      <td>MLO</td>\n",
       "      <td>3518</td>\n",
       "      <td>2800</td>\n",
       "      <td>BI-RADS 4</td>\n",
       "      <td>DENSITY C</td>\n",
       "      <td>['Mass']</td>\n",
       "      <td>BI-RADS 4</td>\n",
       "      <td>2386.679932</td>\n",
       "      <td>1240.609985</td>\n",
       "      <td>2501.800049</td>\n",
       "      <td>1354.040039</td>\n",
       "      <td>training</td>\n",
       "      <td>training</td>\n",
       "    </tr>\n",
       "    <tr>\n",
       "      <th>2</th>\n",
       "      <td>75e8e48933289d70b407379a564f8594</td>\n",
       "      <td>853b70e7e6f39133497909d9ca4c756d</td>\n",
       "      <td>c83f780904f25eacb44e9030f32c66e1</td>\n",
       "      <td>R</td>\n",
       "      <td>CC</td>\n",
       "      <td>3518</td>\n",
       "      <td>2800</td>\n",
       "      <td>BI-RADS 3</td>\n",
       "      <td>DENSITY C</td>\n",
       "      <td>['Global Asymmetry']</td>\n",
       "      <td>BI-RADS 3</td>\n",
       "      <td>2279.179932</td>\n",
       "      <td>1166.510010</td>\n",
       "      <td>2704.439941</td>\n",
       "      <td>2184.260010</td>\n",
       "      <td>training</td>\n",
       "      <td>training</td>\n",
       "    </tr>\n",
       "    <tr>\n",
       "      <th>3</th>\n",
       "      <td>75e8e48933289d70b407379a564f8594</td>\n",
       "      <td>853b70e7e6f39133497909d9ca4c756d</td>\n",
       "      <td>893528bc38a0362928a89364f1b692fd</td>\n",
       "      <td>R</td>\n",
       "      <td>MLO</td>\n",
       "      <td>3518</td>\n",
       "      <td>2800</td>\n",
       "      <td>BI-RADS 3</td>\n",
       "      <td>DENSITY C</td>\n",
       "      <td>['Global Asymmetry']</td>\n",
       "      <td>BI-RADS 3</td>\n",
       "      <td>1954.270020</td>\n",
       "      <td>1443.640015</td>\n",
       "      <td>2589.760010</td>\n",
       "      <td>2193.810059</td>\n",
       "      <td>training</td>\n",
       "      <td>training</td>\n",
       "    </tr>\n",
       "    <tr>\n",
       "      <th>4</th>\n",
       "      <td>c3487424fee1bdd4515b72dc3fd69813</td>\n",
       "      <td>77619c914263eae44e9099f1ce07192c</td>\n",
       "      <td>318264c881bf12f2c1efe5f93920cc37</td>\n",
       "      <td>R</td>\n",
       "      <td>CC</td>\n",
       "      <td>3518</td>\n",
       "      <td>2800</td>\n",
       "      <td>BI-RADS 4</td>\n",
       "      <td>DENSITY C</td>\n",
       "      <td>['Architectural Distortion']</td>\n",
       "      <td>BI-RADS 4</td>\n",
       "      <td>2172.300049</td>\n",
       "      <td>1967.410034</td>\n",
       "      <td>2388.699951</td>\n",
       "      <td>2147.159912</td>\n",
       "      <td>training</td>\n",
       "      <td>training</td>\n",
       "    </tr>\n",
       "  </tbody>\n",
       "</table>\n",
       "</div>"
      ],
      "text/plain": [
       "                           study_id                         series_id  \\\n",
       "0  48575a27b7c992427041a82fa750d3fa  26de4993fa6b8ae50a91c8baf49b92b0   \n",
       "1  48575a27b7c992427041a82fa750d3fa  26de4993fa6b8ae50a91c8baf49b92b0   \n",
       "2  75e8e48933289d70b407379a564f8594  853b70e7e6f39133497909d9ca4c756d   \n",
       "3  75e8e48933289d70b407379a564f8594  853b70e7e6f39133497909d9ca4c756d   \n",
       "4  c3487424fee1bdd4515b72dc3fd69813  77619c914263eae44e9099f1ce07192c   \n",
       "\n",
       "                           image_id laterality view_position  height  width  \\\n",
       "0  4e3a578fe535ea4f5258d3f7f4419db8          R            CC    3518   2800   \n",
       "1  dac39351b0f3a8c670b7f8dc88029364          R           MLO    3518   2800   \n",
       "2  c83f780904f25eacb44e9030f32c66e1          R            CC    3518   2800   \n",
       "3  893528bc38a0362928a89364f1b692fd          R           MLO    3518   2800   \n",
       "4  318264c881bf12f2c1efe5f93920cc37          R            CC    3518   2800   \n",
       "\n",
       "  breast_birads breast_density            finding_categories finding_birads  \\\n",
       "0     BI-RADS 4      DENSITY C                      ['Mass']      BI-RADS 4   \n",
       "1     BI-RADS 4      DENSITY C                      ['Mass']      BI-RADS 4   \n",
       "2     BI-RADS 3      DENSITY C          ['Global Asymmetry']      BI-RADS 3   \n",
       "3     BI-RADS 3      DENSITY C          ['Global Asymmetry']      BI-RADS 3   \n",
       "4     BI-RADS 4      DENSITY C  ['Architectural Distortion']      BI-RADS 4   \n",
       "\n",
       "          xmin         ymin         xmax         ymax     split      fold  \n",
       "0  2355.139893  1731.640015  2482.979980  1852.750000  training  training  \n",
       "1  2386.679932  1240.609985  2501.800049  1354.040039  training  training  \n",
       "2  2279.179932  1166.510010  2704.439941  2184.260010  training  training  \n",
       "3  1954.270020  1443.640015  2589.760010  2193.810059  training  training  \n",
       "4  2172.300049  1967.410034  2388.699951  2147.159912  training  training  "
      ]
     },
     "execution_count": 3,
     "metadata": {},
     "output_type": "execute_result"
    }
   ],
   "source": [
    "df.head()"
   ]
  },
  {
   "cell_type": "code",
   "execution_count": 4,
   "metadata": {},
   "outputs": [
    {
     "data": {
      "text/plain": [
       "study_id               5000\n",
       "series_id              5036\n",
       "image_id              20000\n",
       "laterality                2\n",
       "view_position             2\n",
       "height                    3\n",
       "width                    58\n",
       "breast_birads             5\n",
       "breast_density            4\n",
       "finding_categories       35\n",
       "finding_birads            3\n",
       "xmin                   2244\n",
       "ymin                   2241\n",
       "xmax                   2243\n",
       "ymax                   2238\n",
       "split                     2\n",
       "fold                      2\n",
       "dtype: int64"
      ]
     },
     "execution_count": 4,
     "metadata": {},
     "output_type": "execute_result"
    }
   ],
   "source": [
    "df.nunique()"
   ]
  },
  {
   "cell_type": "code",
   "execution_count": 6,
   "metadata": {},
   "outputs": [
    {
     "data": {
      "text/plain": [
       "(3387.4832568583424, 2647.4957043834816)"
      ]
     },
     "execution_count": 6,
     "metadata": {},
     "output_type": "execute_result"
    }
   ],
   "source": [
    "df.height.mean(),df.width.mean()"
   ]
  },
  {
   "cell_type": "code",
   "execution_count": 8,
   "metadata": {},
   "outputs": [
    {
     "data": {
      "text/plain": [
       "finding_birads\n",
       "BI-RADS 4    995\n",
       "BI-RADS 3    893\n",
       "BI-RADS 5    241\n",
       "Name: count, dtype: int64"
      ]
     },
     "execution_count": 8,
     "metadata": {},
     "output_type": "execute_result"
    }
   ],
   "source": [
    "df.finding_birads.value_counts()"
   ]
  },
  {
   "cell_type": "code",
   "execution_count": 9,
   "metadata": {},
   "outputs": [
    {
     "data": {
      "text/plain": [
       "finding_categories\n",
       "['No Finding']                                                                                      18232\n",
       "['Mass']                                                                                             1123\n",
       "['Suspicious Calcification']                                                                          402\n",
       "['Focal Asymmetry']                                                                                   232\n",
       "['Architectural Distortion']                                                                           95\n",
       "['Asymmetry']                                                                                          90\n",
       "['Suspicious Calcification', 'Mass']                                                                   82\n",
       "['Suspicious Lymph Node']                                                                              57\n",
       "['Skin Thickening']                                                                                    38\n",
       "['Suspicious Calcification', 'Focal Asymmetry']                                                        31\n",
       "['Global Asymmetry']                                                                                   24\n",
       "['Suspicious Calcification', 'Architectural Distortion']                                               13\n",
       "['Nipple Retraction']                                                                                  12\n",
       "['Skin Retraction']                                                                                     7\n",
       "['Skin Thickening', 'Nipple Retraction']                                                                6\n",
       "['Suspicious Calcification', 'Nipple Retraction', 'Mass']                                               4\n",
       "['Suspicious Calcification', 'Architectural Distortion', 'Mass']                                        4\n",
       "['Skin Thickening', 'Focal Asymmetry']                                                                  4\n",
       "['Skin Retraction', 'Skin Thickening']                                                                  3\n",
       "['Suspicious Calcification', 'Asymmetry']                                                               3\n",
       "['Nipple Retraction', 'Mass']                                                                           3\n",
       "['Skin Retraction', 'Nipple Retraction', 'Mass']                                                        3\n",
       "['Skin Retraction', 'Nipple Retraction']                                                                2\n",
       "['Architectural Distortion', 'Mass']                                                                    2\n",
       "['Nipple Retraction', 'Skin Thickening', 'Mass']                                                        2\n",
       "['Skin Thickening', 'Global Asymmetry', 'Nipple Retraction']                                            2\n",
       "['Suspicious Calcification', 'Architectural Distortion', 'Nipple Retraction', 'Skin Retraction']        2\n",
       "['Skin Thickening', 'Asymmetry']                                                                        1\n",
       "['Skin Thickening', 'Mass']                                                                             1\n",
       "['Skin Retraction', 'Architectural Distortion', 'Suspicious Calcification']                             1\n",
       "['Asymmetry', 'Mass']                                                                                   1\n",
       "['Focal Asymmetry', 'Mass']                                                                             1\n",
       "['Nipple Retraction', 'Asymmetry']                                                                      1\n",
       "['Architectural Distortion', 'Asymmetry']                                                               1\n",
       "['Suspicious Calcification', 'Architectural Distortion', 'Focal Asymmetry']                             1\n",
       "Name: count, dtype: int64"
      ]
     },
     "execution_count": 9,
     "metadata": {},
     "output_type": "execute_result"
    }
   ],
   "source": [
    "df.finding_categories.value_counts()"
   ]
  },
  {
   "cell_type": "code",
   "execution_count": 11,
   "metadata": {},
   "outputs": [
    {
     "data": {
      "text/plain": [
       "breast_birads\n",
       "BI-RADS 1    13406\n",
       "BI-RADS 2     4676\n",
       "BI-RADS 3      930\n",
       "BI-RADS 4      762\n",
       "BI-RADS 5      226\n",
       "Name: count, dtype: int64"
      ]
     },
     "execution_count": 11,
     "metadata": {},
     "output_type": "execute_result"
    }
   ],
   "source": [
    "df_glob.breast_birads.value_counts()"
   ]
  },
  {
   "cell_type": "code",
   "execution_count": 12,
   "metadata": {},
   "outputs": [
    {
     "data": {
      "text/plain": [
       "breast_birads\n",
       "BI-RADS 1    13406\n",
       "BI-RADS 2     4676\n",
       "BI-RADS 4     1005\n",
       "BI-RADS 3      972\n",
       "BI-RADS 5      427\n",
       "Name: count, dtype: int64"
      ]
     },
     "execution_count": 12,
     "metadata": {},
     "output_type": "execute_result"
    }
   ],
   "source": [
    "df.breast_birads.value_counts()"
   ]
  },
  {
   "cell_type": "code",
   "execution_count": 14,
   "metadata": {},
   "outputs": [
    {
     "data": {
      "text/plain": [
       "(20000, 20486)"
      ]
     },
     "execution_count": 14,
     "metadata": {},
     "output_type": "execute_result"
    }
   ],
   "source": [
    "len(df_glob),len(df)"
   ]
  },
  {
   "cell_type": "code",
   "execution_count": 19,
   "metadata": {},
   "outputs": [
    {
     "data": {
      "text/plain": [
       "Index(['study_id', 'series_id', 'image_id', 'laterality', 'view_position',\n",
       "       'height', 'width', 'breast_birads', 'breast_density',\n",
       "       'finding_categories', 'finding_birads', 'xmin', 'ymin', 'xmax', 'ymax',\n",
       "       'split', 'fold'],\n",
       "      dtype='object')"
      ]
     },
     "execution_count": 19,
     "metadata": {},
     "output_type": "execute_result"
    }
   ],
   "source": [
    "df.columns"
   ]
  },
  {
   "cell_type": "code",
   "execution_count": 27,
   "metadata": {},
   "outputs": [
    {
     "data": {
      "text/plain": [
       "35"
      ]
     },
     "execution_count": 27,
     "metadata": {},
     "output_type": "execute_result"
    }
   ],
   "source": [
    "df.finding_categories.nunique()"
   ]
  },
  {
   "cell_type": "code",
   "execution_count": null,
   "metadata": {},
   "outputs": [],
   "source": []
  }
 ],
 "metadata": {
  "kernelspec": {
   "display_name": "Python 3",
   "language": "python",
   "name": "python3"
  },
  "language_info": {
   "codemirror_mode": {
    "name": "ipython",
    "version": 3
   },
   "file_extension": ".py",
   "mimetype": "text/x-python",
   "name": "python",
   "nbconvert_exporter": "python",
   "pygments_lexer": "ipython3",
   "version": "3.12.2"
  }
 },
 "nbformat": 4,
 "nbformat_minor": 2
}
