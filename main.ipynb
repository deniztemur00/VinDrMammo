{
 "cells": [
  {
   "cell_type": "code",
   "execution_count": 1,
   "metadata": {},
   "outputs": [
    {
     "name": "stdout",
     "output_type": "stream",
     "text": [
      "0 torch.Size([4, 1, 1920, 2444])\n",
      "1 torch.Size([4, 1, 1920, 2444])\n",
      "2 torch.Size([4, 1, 1920, 2444])\n",
      "3 torch.Size([4, 1, 1920, 2444])\n",
      "4 torch.Size([4, 1, 1920, 2444])\n",
      "5 torch.Size([4, 1, 1920, 2444])\n",
      "6 torch.Size([4, 1, 1920, 2444])\n",
      "7 torch.Size([4, 1, 1920, 2444])\n",
      "8 torch.Size([4, 1, 1920, 2444])\n",
      "9 torch.Size([4, 1, 1920, 2444])\n",
      "10 torch.Size([4, 1, 1920, 2444])\n",
      "0 torch.Size([4, 1, 1920, 2444])\n",
      "1 torch.Size([4, 1, 1920, 2444])\n",
      "2 torch.Size([4, 1, 1920, 2444])\n",
      "3 torch.Size([4, 1, 1920, 2444])\n",
      "4 torch.Size([4, 1, 1920, 2444])\n",
      "5 torch.Size([4, 1, 1920, 2444])\n",
      "6 torch.Size([4, 1, 1920, 2444])\n",
      "7 torch.Size([4, 1, 1920, 2444])\n",
      "8 torch.Size([4, 1, 1920, 2444])\n",
      "9 torch.Size([4, 1, 1920, 2444])\n",
      "10 torch.Size([4, 1, 1920, 2444])\n"
     ]
    }
   ],
   "source": [
    "from dataset import MammographyDataset,DataLoader\n",
    "import pandas as pd\n",
    "\n",
    "\n",
    "df = pd.read_csv(\"metadata/stratified_local.csv\")\n",
    "ZIP_PATH = \"N:\\\\IDM Downloads\\\\Compressions\\\\vindr-mammo.zip\"\n",
    "INTER_NAME = \"vindr-mammo-a-large-scale-benchmark-dataset-for-computer-aided-detection-and-diagnosis-in-full-field-digital-mammography-1.0.0/images\"\n",
    "\n",
    "\n",
    "\n",
    "# Read the stratified data\n",
    "global_df = pd.read_csv(\"metadata/stratified_local.csv\")\n",
    "\n",
    "# Split into train and test based on fold\n",
    "train_df = global_df[global_df['fold'] == 'training']\n",
    "test_df = global_df[global_df['fold'] == 'test']\n",
    "\n",
    "\n",
    "\n",
    "train_dataset = MammographyDataset(train_df, ZIP_PATH, INTER_NAME)\n",
    "test_dataset = MammographyDataset(test_df, ZIP_PATH, INTER_NAME)\n",
    "\n",
    "# Create dataloaders if needed\n",
    "train_loader = DataLoader(train_dataset, batch_size=4, shuffle=True)\n",
    "test_loader = DataLoader(test_dataset, batch_size=4, shuffle=False)\n",
    "\n",
    "\n",
    "for i, batch in enumerate(train_loader):\n",
    "    print(i, batch.shape)\n",
    "    if i == 10:\n",
    "        break\n",
    "\n",
    "for i, batch in enumerate(test_loader):\n",
    "    print(i, batch.shape)\n",
    "    if i == 10:\n",
    "        break"
   ]
  },
  {
   "cell_type": "code",
   "execution_count": null,
   "metadata": {},
   "outputs": [],
   "source": []
  }
 ],
 "metadata": {
  "kernelspec": {
   "display_name": "Python 3",
   "language": "python",
   "name": "python3"
  },
  "language_info": {
   "codemirror_mode": {
    "name": "ipython",
    "version": 3
   },
   "file_extension": ".py",
   "mimetype": "text/x-python",
   "name": "python",
   "nbconvert_exporter": "python",
   "pygments_lexer": "ipython3",
   "version": "3.12.2"
  }
 },
 "nbformat": 4,
 "nbformat_minor": 2
}
